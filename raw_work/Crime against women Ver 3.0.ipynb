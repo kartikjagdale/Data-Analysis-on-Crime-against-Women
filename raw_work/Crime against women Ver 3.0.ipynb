{
 "metadata": {
  "name": "",
  "signature": "sha256:f4914f8925d77ccbe146916c6ca4b8c7da4750ae56104c5ea99036f9ad136e43"
 },
 "nbformat": 3,
 "nbformat_minor": 0,
 "worksheets": [
  {
   "cells": [
    {
     "cell_type": "markdown",
     "metadata": {},
     "source": [
      "From version 2.0 we hava our clenaed data with no rows and columns with total values we have pure data assoctated wth each crime bow lets\n",
      "sepearte all crimes individually\n",
      "\n",
      "Note file name:\n",
      "    >>crimescleaned.csv"
     ]
    },
    {
     "cell_type": "code",
     "collapsed": false,
     "input": [
      "#Include libraries\n",
      "import numpy as np\n",
      "import matplotlib.pyplot as plt\n",
      "import pandas as pd\n"
     ],
     "language": "python",
     "metadata": {},
     "outputs": [],
     "prompt_number": 1
    },
    {
     "cell_type": "code",
     "collapsed": false,
     "input": [
      "crimes = pd.read_csv('crimescleaned.csv', index_col=0)\n",
      "crimes.head() #seems and unwanted column is added"
     ],
     "language": "python",
     "metadata": {},
     "outputs": [
      {
       "html": [
        "<div style=\"max-height:1000px;max-width:1500px;overflow:auto;\">\n",
        "<table border=\"1\" class=\"dataframe\">\n",
        "  <thead>\n",
        "    <tr style=\"text-align: right;\">\n",
        "      <th></th>\n",
        "      <th>STATE/UT</th>\n",
        "      <th>CRIME HEAD</th>\n",
        "      <th>2001</th>\n",
        "      <th>2002</th>\n",
        "      <th>2003</th>\n",
        "      <th>2004</th>\n",
        "      <th>2005</th>\n",
        "      <th>2006</th>\n",
        "      <th>2007</th>\n",
        "      <th>2008</th>\n",
        "      <th>2009</th>\n",
        "      <th>2010</th>\n",
        "      <th>2011</th>\n",
        "      <th>2012</th>\n",
        "    </tr>\n",
        "  </thead>\n",
        "  <tbody>\n",
        "    <tr>\n",
        "      <th>0</th>\n",
        "      <td>    ANDHRA PRADESH</td>\n",
        "      <td> RAPE</td>\n",
        "      <td> 871</td>\n",
        "      <td> 1002</td>\n",
        "      <td>  946</td>\n",
        "      <td> 1016</td>\n",
        "      <td>  935</td>\n",
        "      <td> 1049</td>\n",
        "      <td> 1070</td>\n",
        "      <td> 1257</td>\n",
        "      <td> 1188</td>\n",
        "      <td> 1362</td>\n",
        "      <td> 1442</td>\n",
        "      <td> 1341</td>\n",
        "    </tr>\n",
        "    <tr>\n",
        "      <th>1</th>\n",
        "      <td> ARUNACHAL PRADESH</td>\n",
        "      <td> RAPE</td>\n",
        "      <td>  33</td>\n",
        "      <td>   38</td>\n",
        "      <td>   31</td>\n",
        "      <td>   42</td>\n",
        "      <td>   35</td>\n",
        "      <td>   37</td>\n",
        "      <td>   48</td>\n",
        "      <td>   42</td>\n",
        "      <td>   59</td>\n",
        "      <td>   47</td>\n",
        "      <td>   42</td>\n",
        "      <td>   46</td>\n",
        "    </tr>\n",
        "    <tr>\n",
        "      <th>2</th>\n",
        "      <td>             ASSAM</td>\n",
        "      <td> RAPE</td>\n",
        "      <td> 817</td>\n",
        "      <td>  970</td>\n",
        "      <td> 1095</td>\n",
        "      <td> 1171</td>\n",
        "      <td> 1238</td>\n",
        "      <td> 1244</td>\n",
        "      <td> 1437</td>\n",
        "      <td> 1438</td>\n",
        "      <td> 1631</td>\n",
        "      <td> 1721</td>\n",
        "      <td> 1700</td>\n",
        "      <td> 1716</td>\n",
        "    </tr>\n",
        "    <tr>\n",
        "      <th>3</th>\n",
        "      <td>             BIHAR</td>\n",
        "      <td> RAPE</td>\n",
        "      <td> 888</td>\n",
        "      <td> 1040</td>\n",
        "      <td>  985</td>\n",
        "      <td> 1390</td>\n",
        "      <td> 1147</td>\n",
        "      <td> 1232</td>\n",
        "      <td> 1555</td>\n",
        "      <td> 1302</td>\n",
        "      <td>  929</td>\n",
        "      <td>  795</td>\n",
        "      <td>  934</td>\n",
        "      <td>  927</td>\n",
        "    </tr>\n",
        "    <tr>\n",
        "      <th>4</th>\n",
        "      <td>      CHHATTISGARH</td>\n",
        "      <td> RAPE</td>\n",
        "      <td> 959</td>\n",
        "      <td>  992</td>\n",
        "      <td>  898</td>\n",
        "      <td>  969</td>\n",
        "      <td>  990</td>\n",
        "      <td>  995</td>\n",
        "      <td>  982</td>\n",
        "      <td>  978</td>\n",
        "      <td>  976</td>\n",
        "      <td> 1012</td>\n",
        "      <td> 1053</td>\n",
        "      <td> 1034</td>\n",
        "    </tr>\n",
        "  </tbody>\n",
        "</table>\n",
        "</div>"
       ],
       "metadata": {},
       "output_type": "pyout",
       "prompt_number": 22,
       "text": [
        "            STATE/UT CRIME HEAD  2001  2002  2003  2004  2005  2006  2007  \\\n",
        "0     ANDHRA PRADESH       RAPE   871  1002   946  1016   935  1049  1070   \n",
        "1  ARUNACHAL PRADESH       RAPE    33    38    31    42    35    37    48   \n",
        "2              ASSAM       RAPE   817   970  1095  1171  1238  1244  1437   \n",
        "3              BIHAR       RAPE   888  1040   985  1390  1147  1232  1555   \n",
        "4       CHHATTISGARH       RAPE   959   992   898   969   990   995   982   \n",
        "\n",
        "   2008  2009  2010  2011  2012  \n",
        "0  1257  1188  1362  1442  1341  \n",
        "1    42    59    47    42    46  \n",
        "2  1438  1631  1721  1700  1716  \n",
        "3  1302   929   795   934   927  \n",
        "4   978   976  1012  1053  1034  "
       ]
      }
     ],
     "prompt_number": 22
    },
    {
     "cell_type": "code",
     "collapsed": false,
     "input": [
      "pd.unique(crimes['CRIME HEAD'])"
     ],
     "language": "python",
     "metadata": {},
     "outputs": [
      {
       "metadata": {},
       "output_type": "pyout",
       "prompt_number": 31,
       "text": [
        "array(['RAPE', 'KIDNAPPING and ABDUCTION', 'DOWRY DEATHS',\n",
        "       'ASSAULT ON WOMEN WITH INTENT TO OUTRAGE HER MODESTY',\n",
        "       'INSULT TO THE MODESTY OF WOMEN',\n",
        "       'CRUELTY BY HUSBAND OR HIS RELATIVES (IPC SECTION 498A)',\n",
        "       'IMPORTATION OF GIRLS FROM FOREIGN COUNTRY',\n",
        "       'IMMORAL TRAFFIC (P) ACT', 'DOWRY PROHIBITION ACT',\n",
        "       'INDECENT REPRESENTATION OF WOMEN (P) ACT',\n",
        "       'COMMISSION OF SATI PREVENTION ACT'], dtype=object)"
       ]
      }
     ],
     "prompt_number": 31
    },
    {
     "cell_type": "markdown",
     "metadata": {},
     "source": [
      "####Now lets seprate each crime from the data and make sperate datframe and then csv files"
     ]
    },
    {
     "cell_type": "code",
     "collapsed": false,
     "input": [
      "crimelist = pd.unique(crimes['CRIME HEAD'])\n",
      "crimelist"
     ],
     "language": "python",
     "metadata": {},
     "outputs": [
      {
       "metadata": {},
       "output_type": "pyout",
       "prompt_number": 43,
       "text": [
        "array(['RAPE', 'KIDNAPPING and ABDUCTION', 'DOWRY DEATHS',\n",
        "       'ASSAULT ON WOMEN WITH INTENT TO OUTRAGE HER MODESTY',\n",
        "       'INSULT TO THE MODESTY OF WOMEN',\n",
        "       'CRUELTY BY HUSBAND OR HIS RELATIVES (IPC SECTION 498A)',\n",
        "       'IMPORTATION OF GIRLS FROM FOREIGN COUNTRY',\n",
        "       'IMMORAL TRAFFIC (P) ACT', 'DOWRY PROHIBITION ACT',\n",
        "       'INDECENT REPRESENTATION OF WOMEN (P) ACT',\n",
        "       'COMMISSION OF SATI PREVENTION ACT'], dtype=object)"
       ]
      }
     ],
     "prompt_number": 43
    },
    {
     "cell_type": "code",
     "collapsed": false,
     "input": [
      "#rape,kidnapping  = crimes[crimes['CRIME HEAD']=='RAPE'], crimes[crimes['CRIME HEAD']=='KIDNAPPING and ABDUCTION']\n",
      "for crime in crimelist:\n",
      "    print crime"
     ],
     "language": "python",
     "metadata": {},
     "outputs": [
      {
       "output_type": "stream",
       "stream": "stdout",
       "text": [
        "RAPE\n",
        "KIDNAPPING and ABDUCTION\n",
        "DOWRY DEATHS\n",
        "ASSAULT ON WOMEN WITH INTENT TO OUTRAGE HER MODESTY\n",
        "INSULT TO THE MODESTY OF WOMEN\n",
        "CRUELTY BY HUSBAND OR HIS RELATIVES (IPC SECTION 498A)\n",
        "IMPORTATION OF GIRLS FROM FOREIGN COUNTRY\n",
        "IMMORAL TRAFFIC (P) ACT\n",
        "DOWRY PROHIBITION ACT\n",
        "INDECENT REPRESENTATION OF WOMEN (P) ACT\n",
        "COMMISSION OF SATI PREVENTION ACT\n"
       ]
      }
     ],
     "prompt_number": 61
    },
    {
     "cell_type": "code",
     "collapsed": false,
     "input": [
      "for crime in crimelist:\n",
      "    df = crimes[crimes['CRIME HEAD']== crime]\n",
      "    df.to_csv(crime+'.csv')"
     ],
     "language": "python",
     "metadata": {},
     "outputs": [],
     "prompt_number": 65
    },
    {
     "cell_type": "markdown",
     "metadata": {},
     "source": [
      "Now we have a seperate csv files with different crimes which we can load sperately whenever we want "
     ]
    },
    {
     "cell_type": "code",
     "collapsed": false,
     "input": [
      "import os\n",
      "DIR_PATH = os.getcwd() + '//crimes'"
     ],
     "language": "python",
     "metadata": {},
     "outputs": [],
     "prompt_number": 74
    },
    {
     "cell_type": "code",
     "collapsed": false,
     "input": [
      "DIR_PATH "
     ],
     "language": "python",
     "metadata": {},
     "outputs": [
      {
       "metadata": {},
       "output_type": "pyout",
       "prompt_number": 75,
       "text": [
        "'F:\\\\Educational Stuff\\\\Hebi\\\\Machine Learning and Data Science\\\\Data Science\\\\My_Work\\\\crime_against_women//crimes'"
       ]
      }
     ],
     "prompt_number": 75
    },
    {
     "cell_type": "code",
     "collapsed": false,
     "input": [
      "for filenames in (os.walk(DIR_PATH)):\n",
      "    for filename in filenames:\n",
      "        print filename"
     ],
     "language": "python",
     "metadata": {},
     "outputs": [
      {
       "output_type": "stream",
       "stream": "stdout",
       "text": [
        "F:\\Educational Stuff\\Hebi\\Machine Learning and Data Science\\Data Science\\My_Work\\crime_against_women//crimes\n",
        "[]\n",
        "['ASSAULT ON WOMEN WITH INTENT TO OUTRAGE HER MODESTY.csv', 'COMMISSION OF SATI PREVENTION ACT.csv', 'CRUELTY BY HUSBAND OR HIS RELATIVES (IPC SECTION 498A).csv', 'DOWRY DEATHS.csv', 'DOWRY PROHIBITION ACT.csv', 'IMMORAL TRAFFIC (P) ACT.csv', 'IMPORTATION OF GIRLS FROM FOREIGN COUNTRY.csv', 'INDECENT REPRESENTATION OF WOMEN (P) ACT.csv', 'INSULT TO THE MODESTY OF WOMEN.csv', 'KIDNAPPING and ABDUCTION.csv', 'RAPE.csv']\n"
       ]
      }
     ],
     "prompt_number": 86
    },
    {
     "cell_type": "code",
     "collapsed": false,
     "input": [
      "#This sounds Cool\n",
      "for filename in os.listdir(DIR_PATH):\n",
      "    print  filename"
     ],
     "language": "python",
     "metadata": {},
     "outputs": [
      {
       "output_type": "stream",
       "stream": "stdout",
       "text": [
        "ASSAULT ON WOMEN WITH INTENT TO OUTRAGE HER MODESTY.csv\n",
        "COMMISSION OF SATI PREVENTION ACT.csv\n",
        "CRUELTY BY HUSBAND OR HIS RELATIVES (IPC SECTION 498A).csv\n",
        "DOWRY DEATHS.csv\n",
        "DOWRY PROHIBITION ACT.csv\n",
        "IMMORAL TRAFFIC (P) ACT.csv\n",
        "IMPORTATION OF GIRLS FROM FOREIGN COUNTRY.csv\n",
        "INDECENT REPRESENTATION OF WOMEN (P) ACT.csv\n",
        "INSULT TO THE MODESTY OF WOMEN.csv\n",
        "KIDNAPPING and ABDUCTION.csv\n",
        "RAPE.csv\n"
       ]
      }
     ],
     "prompt_number": 88
    },
    {
     "cell_type": "code",
     "collapsed": false,
     "input": [],
     "language": "python",
     "metadata": {},
     "outputs": []
    }
   ],
   "metadata": {}
  }
 ]
}