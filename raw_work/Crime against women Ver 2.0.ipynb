{
 "metadata": {
  "name": "",
  "signature": "sha256:e3901e90870dd317b0f278c86b4fceafb91310cfa97f94a11bd17d5417b51d64"
 },
 "nbformat": 3,
 "nbformat_minor": 0,
 "worksheets": [
  {
   "cells": [
    {
     "cell_type": "markdown",
     "metadata": {},
     "source": [
      "#Crime Rate Against Women Ver 2.0\n",
      ">>Data from 'Data.gov.in'\n",
      "\n",
      "File names: \n",
      "    >>crcCAW.CSV : `Number of Crime against women`\n",
      "    >>pacCAW.CSV : 'Number of Person Involved in Crime against Women'\n",
      "\n",
      "\n",
      "Here In this Notebook we will separate all crimes against women according to category and remove all the rows about Total Crimes. and separate all the crimes in individual dataframe.. Hope we'll succed"
     ]
    },
    {
     "cell_type": "code",
     "collapsed": false,
     "input": [
      "#Lets now import necessary libraries which will help us\n",
      "import numpy as np\n",
      "import pandas as pd\n",
      "import matplotlib.pyplot as plt"
     ],
     "language": "python",
     "metadata": {},
     "outputs": [],
     "prompt_number": 2
    },
    {
     "cell_type": "code",
     "collapsed": false,
     "input": [
      "crimes = pd.read_csv('crcCAW.csv')"
     ],
     "language": "python",
     "metadata": {},
     "outputs": [],
     "prompt_number": 3
    },
    {
     "cell_type": "code",
     "collapsed": false,
     "input": [
      "crimes.head() #lets give it a look"
     ],
     "language": "python",
     "metadata": {},
     "outputs": [
      {
       "html": [
        "<div style=\"max-height:1000px;max-width:1500px;overflow:auto;\">\n",
        "<table border=\"1\" class=\"dataframe\">\n",
        "  <thead>\n",
        "    <tr style=\"text-align: right;\">\n",
        "      <th></th>\n",
        "      <th>STATE/UT</th>\n",
        "      <th>CRIME HEAD</th>\n",
        "      <th>2001</th>\n",
        "      <th>2002</th>\n",
        "      <th>2003</th>\n",
        "      <th>2004</th>\n",
        "      <th>2005</th>\n",
        "      <th>2006</th>\n",
        "      <th>2007</th>\n",
        "      <th>2008</th>\n",
        "      <th>2009</th>\n",
        "      <th>2010</th>\n",
        "      <th>2011</th>\n",
        "      <th>2012</th>\n",
        "    </tr>\n",
        "  </thead>\n",
        "  <tbody>\n",
        "    <tr>\n",
        "      <th>0</th>\n",
        "      <td>    ANDHRA PRADESH</td>\n",
        "      <td> RAPE</td>\n",
        "      <td> 871</td>\n",
        "      <td> 1002</td>\n",
        "      <td>  946</td>\n",
        "      <td> 1016</td>\n",
        "      <td>  935</td>\n",
        "      <td> 1049</td>\n",
        "      <td> 1070</td>\n",
        "      <td> 1257</td>\n",
        "      <td> 1188</td>\n",
        "      <td> 1362</td>\n",
        "      <td> 1442</td>\n",
        "      <td> 1341</td>\n",
        "    </tr>\n",
        "    <tr>\n",
        "      <th>1</th>\n",
        "      <td> ARUNACHAL PRADESH</td>\n",
        "      <td> RAPE</td>\n",
        "      <td>  33</td>\n",
        "      <td>   38</td>\n",
        "      <td>   31</td>\n",
        "      <td>   42</td>\n",
        "      <td>   35</td>\n",
        "      <td>   37</td>\n",
        "      <td>   48</td>\n",
        "      <td>   42</td>\n",
        "      <td>   59</td>\n",
        "      <td>   47</td>\n",
        "      <td>   42</td>\n",
        "      <td>   46</td>\n",
        "    </tr>\n",
        "    <tr>\n",
        "      <th>2</th>\n",
        "      <td>             ASSAM</td>\n",
        "      <td> RAPE</td>\n",
        "      <td> 817</td>\n",
        "      <td>  970</td>\n",
        "      <td> 1095</td>\n",
        "      <td> 1171</td>\n",
        "      <td> 1238</td>\n",
        "      <td> 1244</td>\n",
        "      <td> 1437</td>\n",
        "      <td> 1438</td>\n",
        "      <td> 1631</td>\n",
        "      <td> 1721</td>\n",
        "      <td> 1700</td>\n",
        "      <td> 1716</td>\n",
        "    </tr>\n",
        "    <tr>\n",
        "      <th>3</th>\n",
        "      <td>             BIHAR</td>\n",
        "      <td> RAPE</td>\n",
        "      <td> 888</td>\n",
        "      <td> 1040</td>\n",
        "      <td>  985</td>\n",
        "      <td> 1390</td>\n",
        "      <td> 1147</td>\n",
        "      <td> 1232</td>\n",
        "      <td> 1555</td>\n",
        "      <td> 1302</td>\n",
        "      <td>  929</td>\n",
        "      <td>  795</td>\n",
        "      <td>  934</td>\n",
        "      <td>  927</td>\n",
        "    </tr>\n",
        "    <tr>\n",
        "      <th>4</th>\n",
        "      <td>      CHHATTISGARH</td>\n",
        "      <td> RAPE</td>\n",
        "      <td> 959</td>\n",
        "      <td>  992</td>\n",
        "      <td>  898</td>\n",
        "      <td>  969</td>\n",
        "      <td>  990</td>\n",
        "      <td>  995</td>\n",
        "      <td>  982</td>\n",
        "      <td>  978</td>\n",
        "      <td>  976</td>\n",
        "      <td> 1012</td>\n",
        "      <td> 1053</td>\n",
        "      <td> 1034</td>\n",
        "    </tr>\n",
        "  </tbody>\n",
        "</table>\n",
        "</div>"
       ],
       "metadata": {},
       "output_type": "pyout",
       "prompt_number": 5,
       "text": [
        "            STATE/UT CRIME HEAD  2001  2002  2003  2004  2005  2006  2007  \\\n",
        "0     ANDHRA PRADESH       RAPE   871  1002   946  1016   935  1049  1070   \n",
        "1  ARUNACHAL PRADESH       RAPE    33    38    31    42    35    37    48   \n",
        "2              ASSAM       RAPE   817   970  1095  1171  1238  1244  1437   \n",
        "3              BIHAR       RAPE   888  1040   985  1390  1147  1232  1555   \n",
        "4       CHHATTISGARH       RAPE   959   992   898   969   990   995   982   \n",
        "\n",
        "   2008  2009  2010  2011  2012  \n",
        "0  1257  1188  1362  1442  1341  \n",
        "1    42    59    47    42    46  \n",
        "2  1438  1631  1721  1700  1716  \n",
        "3  1302   929   795   934   927  \n",
        "4   978   976  1012  1053  1034  "
       ]
      }
     ],
     "prompt_number": 5
    },
    {
     "cell_type": "code",
     "collapsed": false,
     "input": [
      "pd.unique(crimes['CRIME HEAD']) # we got all crimes releated to women in the datframe now we can extract the crimes \n",
      "#pd.unique(df.values.ravel())"
     ],
     "language": "python",
     "metadata": {},
     "outputs": [
      {
       "metadata": {},
       "output_type": "pyout",
       "prompt_number": 16,
       "text": [
        "array(['RAPE', 'KIDNAPPING and ABDUCTION', 'DOWRY DEATHS',\n",
        "       'ASSAULT ON WOMEN WITH INTENT TO OUTRAGE HER MODESTY',\n",
        "       'INSULT TO THE MODESTY OF WOMEN',\n",
        "       'CRUELTY BY HUSBAND OR HIS RELATIVES (IPC SECTION 498A)',\n",
        "       'IMPORTATION OF GIRLS FROM FOREIGN COUNTRY',\n",
        "       'IMMORAL TRAFFIC (P) ACT', 'DOWRY PROHIBITION ACT',\n",
        "       'INDECENT REPRESENTATION OF WOMEN (P) ACT',\n",
        "       'COMMISSION OF SATI PREVENTION ACT', 'TOTAL CRIMES AGAINST WOMEN'], dtype=object)"
       ]
      }
     ],
     "prompt_number": 16
    },
    {
     "cell_type": "markdown",
     "metadata": {},
     "source": [
      "####** lets extract all rapes releated crime first **\n",
      "as we did it in previous version"
     ]
    },
    {
     "cell_type": "markdown",
     "metadata": {},
     "source": [
      "First we will remove all the entries releated to Total of the crimes as we don't want total now"
     ]
    },
    {
     "cell_type": "code",
     "collapsed": false,
     "input": [
      "#df = df[df.line_race != 0] this is we are going to do to remove the total entries\n",
      "crimes_ver1 = crimes[crimes['CRIME HEAD']!='TOTAL CRIMES AGAINST WOMEN']"
     ],
     "language": "python",
     "metadata": {},
     "outputs": [],
     "prompt_number": 28
    },
    {
     "cell_type": "code",
     "collapsed": false,
     "input": [
      "crimes_ver2 =  crimes_ver1[crimes_ver1['STATE/UT']!='TOTAL (ALL-INDIA)']"
     ],
     "language": "python",
     "metadata": {},
     "outputs": [],
     "prompt_number": 29
    },
    {
     "cell_type": "code",
     "collapsed": false,
     "input": [
      "crimes_ver3 = crimes_ver2[crimes_ver2['STATE/UT']!='TOTAL (STATES)']"
     ],
     "language": "python",
     "metadata": {},
     "outputs": [],
     "prompt_number": 31
    },
    {
     "cell_type": "code",
     "collapsed": false,
     "input": [
      "crimes_ver4 =  crimes_ver3[crimes_ver3['STATE/UT']!='TOTAL (UTs)']"
     ],
     "language": "python",
     "metadata": {},
     "outputs": [],
     "prompt_number": 34
    },
    {
     "cell_type": "code",
     "collapsed": false,
     "input": [
      "crimes_ver4.to_csv('crimescleaned.csv')"
     ],
     "language": "python",
     "metadata": {},
     "outputs": [],
     "prompt_number": 36
    },
    {
     "cell_type": "markdown",
     "metadata": {},
     "source": [
      "###Now we have a cleaned data with no data named Total crimes and total states and total(all india) or total(all ut)"
     ]
    },
    {
     "cell_type": "code",
     "collapsed": false,
     "input": [
      "name = 'kartik'\n",
      "import os\n",
      "DIR_PATH = os.path.abspath\n",
      "DIR_"
     ],
     "language": "python",
     "metadata": {},
     "outputs": [],
     "prompt_number": 46
    },
    {
     "cell_type": "code",
     "collapsed": false,
     "input": [
      "os.walk(',')"
     ],
     "language": "python",
     "metadata": {},
     "outputs": [
      {
       "metadata": {},
       "output_type": "pyout",
       "prompt_number": 49,
       "text": [
        "<generator object walk at 0x02C6AFD0>"
       ]
      }
     ],
     "prompt_number": 49
    },
    {
     "cell_type": "code",
     "collapsed": false,
     "input": [],
     "language": "python",
     "metadata": {},
     "outputs": []
    }
   ],
   "metadata": {}
  }
 ]
}